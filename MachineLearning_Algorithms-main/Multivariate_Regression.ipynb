{
  "nbformat": 4,
  "nbformat_minor": 0,
  "metadata": {
    "colab": {
      "name": "Multivariate_Regression.ipynb",
      "provenance": [],
      "collapsed_sections": [],
      "authorship_tag": "ABX9TyMBS/GBVxH75T7OzqgDgBu+",
      "include_colab_link": true
    },
    "kernelspec": {
      "name": "python3",
      "display_name": "Python 3"
    },
    "language_info": {
      "name": "python"
    }
  },
  "cells": [
    {
      "cell_type": "markdown",
      "metadata": {
        "id": "view-in-github",
        "colab_type": "text"
      },
      "source": [
        "<a href=\"https://colab.research.google.com/github/ANSHIKA1806/MachineLearning_Algorithms/blob/main/Multivariate_Regression.ipynb\" target=\"_parent\"><img src=\"https://colab.research.google.com/assets/colab-badge.svg\" alt=\"Open In Colab\"/></a>"
      ]
    },
    {
      "cell_type": "markdown",
      "source": [
        "#MULTIVARIATE REGRESSION"
      ],
      "metadata": {
        "id": "hzdTtQAn0Quh"
      }
    },
    {
      "cell_type": "markdown",
      "source": [
        "###Importing necessary libraries"
      ],
      "metadata": {
        "id": "gcbPXdKW0h7l"
      }
    },
    {
      "cell_type": "code",
      "execution_count": 4,
      "metadata": {
        "colab": {
          "base_uri": "https://localhost:8080/"
        },
        "id": "9Rl9qWu8MT1V",
        "outputId": "8ef25611-6241-41c8-9255-46e356e69473"
      },
      "outputs": [
        {
          "output_type": "stream",
          "name": "stdout",
          "text": [
            "All necessary packages are installed successfully\n"
          ]
        }
      ],
      "source": [
        "import numpy as np\n",
        "import pandas as pd\n",
        "import matplotlib.pyplot as plt \n",
        "import seaborn as sns\n",
        "print(\"All necessary packages are installed successfully\")"
      ]
    },
    {
      "cell_type": "markdown",
      "source": [
        "###Importing the datasets"
      ],
      "metadata": {
        "id": "xzVh_Ece0p66"
      }
    },
    {
      "cell_type": "code",
      "source": [
        "url =\"https://raw.githubusercontent.com/MainakRepositor/Datasets-/master/House%20rent.csv\"\n",
        "df= pd.read_csv(url, error_bad_lines=False)"
      ],
      "metadata": {
        "id": "cH_Rs3eQXa7i"
      },
      "execution_count": 5,
      "outputs": []
    },
    {
      "cell_type": "markdown",
      "source": [
        "###Exploring data"
      ],
      "metadata": {
        "id": "n9fbD0mw0w6R"
      }
    },
    {
      "cell_type": "code",
      "source": [
        "df.head()"
      ],
      "metadata": {
        "id": "rTEUNeoxaemh",
        "colab": {
          "base_uri": "https://localhost:8080/",
          "height": 206
        },
        "outputId": "744a2134-21d3-4521-f01d-f3207c1f739e"
      },
      "execution_count": 6,
      "outputs": [
        {
          "output_type": "execute_result",
          "data": {
            "text/html": [
              "\n",
              "  <div id=\"df-065747b5-f4bd-4b1c-a239-3e6fa4bf1ee8\">\n",
              "    <div class=\"colab-df-container\">\n",
              "      <div>\n",
              "<style scoped>\n",
              "    .dataframe tbody tr th:only-of-type {\n",
              "        vertical-align: middle;\n",
              "    }\n",
              "\n",
              "    .dataframe tbody tr th {\n",
              "        vertical-align: top;\n",
              "    }\n",
              "\n",
              "    .dataframe thead th {\n",
              "        text-align: right;\n",
              "    }\n",
              "</style>\n",
              "<table border=\"1\" class=\"dataframe\">\n",
              "  <thead>\n",
              "    <tr style=\"text-align: right;\">\n",
              "      <th></th>\n",
              "      <th>Area</th>\n",
              "      <th>Bedrooms</th>\n",
              "      <th>Age</th>\n",
              "      <th>Rent</th>\n",
              "    </tr>\n",
              "  </thead>\n",
              "  <tbody>\n",
              "    <tr>\n",
              "      <th>0</th>\n",
              "      <td>1024</td>\n",
              "      <td>3.0</td>\n",
              "      <td>15</td>\n",
              "      <td>11200</td>\n",
              "    </tr>\n",
              "    <tr>\n",
              "      <th>1</th>\n",
              "      <td>1200</td>\n",
              "      <td>4.0</td>\n",
              "      <td>10</td>\n",
              "      <td>33650</td>\n",
              "    </tr>\n",
              "    <tr>\n",
              "      <th>2</th>\n",
              "      <td>800</td>\n",
              "      <td>2.0</td>\n",
              "      <td>5</td>\n",
              "      <td>8000</td>\n",
              "    </tr>\n",
              "    <tr>\n",
              "      <th>3</th>\n",
              "      <td>674</td>\n",
              "      <td>2.0</td>\n",
              "      <td>10</td>\n",
              "      <td>6120</td>\n",
              "    </tr>\n",
              "    <tr>\n",
              "      <th>4</th>\n",
              "      <td>766</td>\n",
              "      <td>2.0</td>\n",
              "      <td>11</td>\n",
              "      <td>6000</td>\n",
              "    </tr>\n",
              "  </tbody>\n",
              "</table>\n",
              "</div>\n",
              "      <button class=\"colab-df-convert\" onclick=\"convertToInteractive('df-065747b5-f4bd-4b1c-a239-3e6fa4bf1ee8')\"\n",
              "              title=\"Convert this dataframe to an interactive table.\"\n",
              "              style=\"display:none;\">\n",
              "        \n",
              "  <svg xmlns=\"http://www.w3.org/2000/svg\" height=\"24px\"viewBox=\"0 0 24 24\"\n",
              "       width=\"24px\">\n",
              "    <path d=\"M0 0h24v24H0V0z\" fill=\"none\"/>\n",
              "    <path d=\"M18.56 5.44l.94 2.06.94-2.06 2.06-.94-2.06-.94-.94-2.06-.94 2.06-2.06.94zm-11 1L8.5 8.5l.94-2.06 2.06-.94-2.06-.94L8.5 2.5l-.94 2.06-2.06.94zm10 10l.94 2.06.94-2.06 2.06-.94-2.06-.94-.94-2.06-.94 2.06-2.06.94z\"/><path d=\"M17.41 7.96l-1.37-1.37c-.4-.4-.92-.59-1.43-.59-.52 0-1.04.2-1.43.59L10.3 9.45l-7.72 7.72c-.78.78-.78 2.05 0 2.83L4 21.41c.39.39.9.59 1.41.59.51 0 1.02-.2 1.41-.59l7.78-7.78 2.81-2.81c.8-.78.8-2.07 0-2.86zM5.41 20L4 18.59l7.72-7.72 1.47 1.35L5.41 20z\"/>\n",
              "  </svg>\n",
              "      </button>\n",
              "      \n",
              "  <style>\n",
              "    .colab-df-container {\n",
              "      display:flex;\n",
              "      flex-wrap:wrap;\n",
              "      gap: 12px;\n",
              "    }\n",
              "\n",
              "    .colab-df-convert {\n",
              "      background-color: #E8F0FE;\n",
              "      border: none;\n",
              "      border-radius: 50%;\n",
              "      cursor: pointer;\n",
              "      display: none;\n",
              "      fill: #1967D2;\n",
              "      height: 32px;\n",
              "      padding: 0 0 0 0;\n",
              "      width: 32px;\n",
              "    }\n",
              "\n",
              "    .colab-df-convert:hover {\n",
              "      background-color: #E2EBFA;\n",
              "      box-shadow: 0px 1px 2px rgba(60, 64, 67, 0.3), 0px 1px 3px 1px rgba(60, 64, 67, 0.15);\n",
              "      fill: #174EA6;\n",
              "    }\n",
              "\n",
              "    [theme=dark] .colab-df-convert {\n",
              "      background-color: #3B4455;\n",
              "      fill: #D2E3FC;\n",
              "    }\n",
              "\n",
              "    [theme=dark] .colab-df-convert:hover {\n",
              "      background-color: #434B5C;\n",
              "      box-shadow: 0px 1px 3px 1px rgba(0, 0, 0, 0.15);\n",
              "      filter: drop-shadow(0px 1px 2px rgba(0, 0, 0, 0.3));\n",
              "      fill: #FFFFFF;\n",
              "    }\n",
              "  </style>\n",
              "\n",
              "      <script>\n",
              "        const buttonEl =\n",
              "          document.querySelector('#df-065747b5-f4bd-4b1c-a239-3e6fa4bf1ee8 button.colab-df-convert');\n",
              "        buttonEl.style.display =\n",
              "          google.colab.kernel.accessAllowed ? 'block' : 'none';\n",
              "\n",
              "        async function convertToInteractive(key) {\n",
              "          const element = document.querySelector('#df-065747b5-f4bd-4b1c-a239-3e6fa4bf1ee8');\n",
              "          const dataTable =\n",
              "            await google.colab.kernel.invokeFunction('convertToInteractive',\n",
              "                                                     [key], {});\n",
              "          if (!dataTable) return;\n",
              "\n",
              "          const docLinkHtml = 'Like what you see? Visit the ' +\n",
              "            '<a target=\"_blank\" href=https://colab.research.google.com/notebooks/data_table.ipynb>data table notebook</a>'\n",
              "            + ' to learn more about interactive tables.';\n",
              "          element.innerHTML = '';\n",
              "          dataTable['output_type'] = 'display_data';\n",
              "          await google.colab.output.renderOutput(dataTable, element);\n",
              "          const docLink = document.createElement('div');\n",
              "          docLink.innerHTML = docLinkHtml;\n",
              "          element.appendChild(docLink);\n",
              "        }\n",
              "      </script>\n",
              "    </div>\n",
              "  </div>\n",
              "  "
            ],
            "text/plain": [
              "   Area  Bedrooms  Age   Rent\n",
              "0  1024       3.0   15  11200\n",
              "1  1200       4.0   10  33650\n",
              "2   800       2.0    5   8000\n",
              "3   674       2.0   10   6120\n",
              "4   766       2.0   11   6000"
            ]
          },
          "metadata": {},
          "execution_count": 6
        }
      ]
    },
    {
      "cell_type": "code",
      "source": [
        "df.tail()"
      ],
      "metadata": {
        "colab": {
          "base_uri": "https://localhost:8080/",
          "height": 206
        },
        "id": "6M5gN5Udh530",
        "outputId": "83cdebc3-7bc9-4589-c6dd-7d7c94b91f43"
      },
      "execution_count": 7,
      "outputs": [
        {
          "output_type": "execute_result",
          "data": {
            "text/html": [
              "\n",
              "  <div id=\"df-9ae24eb0-5927-4fef-8c97-dc0c785022f5\">\n",
              "    <div class=\"colab-df-container\">\n",
              "      <div>\n",
              "<style scoped>\n",
              "    .dataframe tbody tr th:only-of-type {\n",
              "        vertical-align: middle;\n",
              "    }\n",
              "\n",
              "    .dataframe tbody tr th {\n",
              "        vertical-align: top;\n",
              "    }\n",
              "\n",
              "    .dataframe thead th {\n",
              "        text-align: right;\n",
              "    }\n",
              "</style>\n",
              "<table border=\"1\" class=\"dataframe\">\n",
              "  <thead>\n",
              "    <tr style=\"text-align: right;\">\n",
              "      <th></th>\n",
              "      <th>Area</th>\n",
              "      <th>Bedrooms</th>\n",
              "      <th>Age</th>\n",
              "      <th>Rent</th>\n",
              "    </tr>\n",
              "  </thead>\n",
              "  <tbody>\n",
              "    <tr>\n",
              "      <th>35</th>\n",
              "      <td>760</td>\n",
              "      <td>3.0</td>\n",
              "      <td>4</td>\n",
              "      <td>5120</td>\n",
              "    </tr>\n",
              "    <tr>\n",
              "      <th>36</th>\n",
              "      <td>658</td>\n",
              "      <td>2.0</td>\n",
              "      <td>1</td>\n",
              "      <td>3990</td>\n",
              "    </tr>\n",
              "    <tr>\n",
              "      <th>37</th>\n",
              "      <td>993</td>\n",
              "      <td>4.0</td>\n",
              "      <td>2</td>\n",
              "      <td>10900</td>\n",
              "    </tr>\n",
              "    <tr>\n",
              "      <th>38</th>\n",
              "      <td>890</td>\n",
              "      <td>2.0</td>\n",
              "      <td>9</td>\n",
              "      <td>4980</td>\n",
              "    </tr>\n",
              "    <tr>\n",
              "      <th>39</th>\n",
              "      <td>1025</td>\n",
              "      <td>3.0</td>\n",
              "      <td>5</td>\n",
              "      <td>19000</td>\n",
              "    </tr>\n",
              "  </tbody>\n",
              "</table>\n",
              "</div>\n",
              "      <button class=\"colab-df-convert\" onclick=\"convertToInteractive('df-9ae24eb0-5927-4fef-8c97-dc0c785022f5')\"\n",
              "              title=\"Convert this dataframe to an interactive table.\"\n",
              "              style=\"display:none;\">\n",
              "        \n",
              "  <svg xmlns=\"http://www.w3.org/2000/svg\" height=\"24px\"viewBox=\"0 0 24 24\"\n",
              "       width=\"24px\">\n",
              "    <path d=\"M0 0h24v24H0V0z\" fill=\"none\"/>\n",
              "    <path d=\"M18.56 5.44l.94 2.06.94-2.06 2.06-.94-2.06-.94-.94-2.06-.94 2.06-2.06.94zm-11 1L8.5 8.5l.94-2.06 2.06-.94-2.06-.94L8.5 2.5l-.94 2.06-2.06.94zm10 10l.94 2.06.94-2.06 2.06-.94-2.06-.94-.94-2.06-.94 2.06-2.06.94z\"/><path d=\"M17.41 7.96l-1.37-1.37c-.4-.4-.92-.59-1.43-.59-.52 0-1.04.2-1.43.59L10.3 9.45l-7.72 7.72c-.78.78-.78 2.05 0 2.83L4 21.41c.39.39.9.59 1.41.59.51 0 1.02-.2 1.41-.59l7.78-7.78 2.81-2.81c.8-.78.8-2.07 0-2.86zM5.41 20L4 18.59l7.72-7.72 1.47 1.35L5.41 20z\"/>\n",
              "  </svg>\n",
              "      </button>\n",
              "      \n",
              "  <style>\n",
              "    .colab-df-container {\n",
              "      display:flex;\n",
              "      flex-wrap:wrap;\n",
              "      gap: 12px;\n",
              "    }\n",
              "\n",
              "    .colab-df-convert {\n",
              "      background-color: #E8F0FE;\n",
              "      border: none;\n",
              "      border-radius: 50%;\n",
              "      cursor: pointer;\n",
              "      display: none;\n",
              "      fill: #1967D2;\n",
              "      height: 32px;\n",
              "      padding: 0 0 0 0;\n",
              "      width: 32px;\n",
              "    }\n",
              "\n",
              "    .colab-df-convert:hover {\n",
              "      background-color: #E2EBFA;\n",
              "      box-shadow: 0px 1px 2px rgba(60, 64, 67, 0.3), 0px 1px 3px 1px rgba(60, 64, 67, 0.15);\n",
              "      fill: #174EA6;\n",
              "    }\n",
              "\n",
              "    [theme=dark] .colab-df-convert {\n",
              "      background-color: #3B4455;\n",
              "      fill: #D2E3FC;\n",
              "    }\n",
              "\n",
              "    [theme=dark] .colab-df-convert:hover {\n",
              "      background-color: #434B5C;\n",
              "      box-shadow: 0px 1px 3px 1px rgba(0, 0, 0, 0.15);\n",
              "      filter: drop-shadow(0px 1px 2px rgba(0, 0, 0, 0.3));\n",
              "      fill: #FFFFFF;\n",
              "    }\n",
              "  </style>\n",
              "\n",
              "      <script>\n",
              "        const buttonEl =\n",
              "          document.querySelector('#df-9ae24eb0-5927-4fef-8c97-dc0c785022f5 button.colab-df-convert');\n",
              "        buttonEl.style.display =\n",
              "          google.colab.kernel.accessAllowed ? 'block' : 'none';\n",
              "\n",
              "        async function convertToInteractive(key) {\n",
              "          const element = document.querySelector('#df-9ae24eb0-5927-4fef-8c97-dc0c785022f5');\n",
              "          const dataTable =\n",
              "            await google.colab.kernel.invokeFunction('convertToInteractive',\n",
              "                                                     [key], {});\n",
              "          if (!dataTable) return;\n",
              "\n",
              "          const docLinkHtml = 'Like what you see? Visit the ' +\n",
              "            '<a target=\"_blank\" href=https://colab.research.google.com/notebooks/data_table.ipynb>data table notebook</a>'\n",
              "            + ' to learn more about interactive tables.';\n",
              "          element.innerHTML = '';\n",
              "          dataTable['output_type'] = 'display_data';\n",
              "          await google.colab.output.renderOutput(dataTable, element);\n",
              "          const docLink = document.createElement('div');\n",
              "          docLink.innerHTML = docLinkHtml;\n",
              "          element.appendChild(docLink);\n",
              "        }\n",
              "      </script>\n",
              "    </div>\n",
              "  </div>\n",
              "  "
            ],
            "text/plain": [
              "    Area  Bedrooms  Age   Rent\n",
              "35   760       3.0    4   5120\n",
              "36   658       2.0    1   3990\n",
              "37   993       4.0    2  10900\n",
              "38   890       2.0    9   4980\n",
              "39  1025       3.0    5  19000"
            ]
          },
          "metadata": {},
          "execution_count": 7
        }
      ]
    },
    {
      "cell_type": "code",
      "source": [
        "df.shape"
      ],
      "metadata": {
        "colab": {
          "base_uri": "https://localhost:8080/"
        },
        "id": "ZRsw3c9sh7r7",
        "outputId": "a32ad618-c243-438f-90c2-79fe05a41cea"
      },
      "execution_count": 8,
      "outputs": [
        {
          "output_type": "execute_result",
          "data": {
            "text/plain": [
              "(40, 4)"
            ]
          },
          "metadata": {},
          "execution_count": 8
        }
      ]
    },
    {
      "cell_type": "code",
      "source": [
        "print(\"Are there any null values? \",df.isnull().values.any())"
      ],
      "metadata": {
        "colab": {
          "base_uri": "https://localhost:8080/"
        },
        "id": "HhGoXzPojD3T",
        "outputId": "83612ec4-1bb4-4f7e-c1f5-f3d9b84c5827"
      },
      "execution_count": 9,
      "outputs": [
        {
          "output_type": "stream",
          "name": "stdout",
          "text": [
            "Are ther any null values?  True\n"
          ]
        }
      ]
    },
    {
      "cell_type": "code",
      "source": [
        "df.isnull().sum()"
      ],
      "metadata": {
        "colab": {
          "base_uri": "https://localhost:8080/"
        },
        "id": "IE6lKhGAjU71",
        "outputId": "12ffba7f-6480-4dce-a6c3-78a9a84482ed"
      },
      "execution_count": 10,
      "outputs": [
        {
          "output_type": "execute_result",
          "data": {
            "text/plain": [
              "Area        0\n",
              "Bedrooms    4\n",
              "Age         0\n",
              "Rent        0\n",
              "dtype: int64"
            ]
          },
          "metadata": {},
          "execution_count": 10
        }
      ]
    },
    {
      "cell_type": "markdown",
      "source": [
        "####Replacing null values with median"
      ],
      "metadata": {
        "id": "_n-oqXdG1Po6"
      }
    },
    {
      "cell_type": "code",
      "source": [
        "median = df.Bedrooms.median()\n",
        "median"
      ],
      "metadata": {
        "colab": {
          "base_uri": "https://localhost:8080/"
        },
        "id": "5FoSbOI8jca4",
        "outputId": "61dbbd3b-e295-40b7-c6d3-7d04521f1160"
      },
      "execution_count": 11,
      "outputs": [
        {
          "output_type": "execute_result",
          "data": {
            "text/plain": [
              "3.0"
            ]
          },
          "metadata": {},
          "execution_count": 11
        }
      ]
    },
    {
      "cell_type": "code",
      "source": [
        "df.Bedrooms = df.Bedrooms.fillna(int(median))\n",
        "print(\"Dataframe after filling null values \")\n",
        "df"
      ],
      "metadata": {
        "colab": {
          "base_uri": "https://localhost:8080/",
          "height": 1000
        },
        "id": "FqEuvjevj0Fx",
        "outputId": "f2a397e9-23e5-4348-d97a-409e06bc7659"
      },
      "execution_count": 12,
      "outputs": [
        {
          "output_type": "stream",
          "name": "stdout",
          "text": [
            "Dataframe after filling null values \n"
          ]
        },
        {
          "output_type": "execute_result",
          "data": {
            "text/html": [
              "\n",
              "  <div id=\"df-abf5b5e8-b2d6-433f-8a88-5f3de3198fc3\">\n",
              "    <div class=\"colab-df-container\">\n",
              "      <div>\n",
              "<style scoped>\n",
              "    .dataframe tbody tr th:only-of-type {\n",
              "        vertical-align: middle;\n",
              "    }\n",
              "\n",
              "    .dataframe tbody tr th {\n",
              "        vertical-align: top;\n",
              "    }\n",
              "\n",
              "    .dataframe thead th {\n",
              "        text-align: right;\n",
              "    }\n",
              "</style>\n",
              "<table border=\"1\" class=\"dataframe\">\n",
              "  <thead>\n",
              "    <tr style=\"text-align: right;\">\n",
              "      <th></th>\n",
              "      <th>Area</th>\n",
              "      <th>Bedrooms</th>\n",
              "      <th>Age</th>\n",
              "      <th>Rent</th>\n",
              "    </tr>\n",
              "  </thead>\n",
              "  <tbody>\n",
              "    <tr>\n",
              "      <th>0</th>\n",
              "      <td>1024</td>\n",
              "      <td>3.0</td>\n",
              "      <td>15</td>\n",
              "      <td>11200</td>\n",
              "    </tr>\n",
              "    <tr>\n",
              "      <th>1</th>\n",
              "      <td>1200</td>\n",
              "      <td>4.0</td>\n",
              "      <td>10</td>\n",
              "      <td>33650</td>\n",
              "    </tr>\n",
              "    <tr>\n",
              "      <th>2</th>\n",
              "      <td>800</td>\n",
              "      <td>2.0</td>\n",
              "      <td>5</td>\n",
              "      <td>8000</td>\n",
              "    </tr>\n",
              "    <tr>\n",
              "      <th>3</th>\n",
              "      <td>674</td>\n",
              "      <td>2.0</td>\n",
              "      <td>10</td>\n",
              "      <td>6120</td>\n",
              "    </tr>\n",
              "    <tr>\n",
              "      <th>4</th>\n",
              "      <td>766</td>\n",
              "      <td>2.0</td>\n",
              "      <td>11</td>\n",
              "      <td>6000</td>\n",
              "    </tr>\n",
              "    <tr>\n",
              "      <th>5</th>\n",
              "      <td>680</td>\n",
              "      <td>3.0</td>\n",
              "      <td>36</td>\n",
              "      <td>3200</td>\n",
              "    </tr>\n",
              "    <tr>\n",
              "      <th>6</th>\n",
              "      <td>750</td>\n",
              "      <td>3.0</td>\n",
              "      <td>10</td>\n",
              "      <td>3500</td>\n",
              "    </tr>\n",
              "    <tr>\n",
              "      <th>7</th>\n",
              "      <td>900</td>\n",
              "      <td>3.0</td>\n",
              "      <td>20</td>\n",
              "      <td>3345</td>\n",
              "    </tr>\n",
              "    <tr>\n",
              "      <th>8</th>\n",
              "      <td>967</td>\n",
              "      <td>3.0</td>\n",
              "      <td>23</td>\n",
              "      <td>3100</td>\n",
              "    </tr>\n",
              "    <tr>\n",
              "      <th>9</th>\n",
              "      <td>720</td>\n",
              "      <td>3.0</td>\n",
              "      <td>7</td>\n",
              "      <td>6200</td>\n",
              "    </tr>\n",
              "    <tr>\n",
              "      <th>10</th>\n",
              "      <td>850</td>\n",
              "      <td>4.0</td>\n",
              "      <td>16</td>\n",
              "      <td>7820</td>\n",
              "    </tr>\n",
              "    <tr>\n",
              "      <th>11</th>\n",
              "      <td>1033</td>\n",
              "      <td>4.0</td>\n",
              "      <td>2</td>\n",
              "      <td>37020</td>\n",
              "    </tr>\n",
              "    <tr>\n",
              "      <th>12</th>\n",
              "      <td>1050</td>\n",
              "      <td>3.0</td>\n",
              "      <td>6</td>\n",
              "      <td>33260</td>\n",
              "    </tr>\n",
              "    <tr>\n",
              "      <th>13</th>\n",
              "      <td>1120</td>\n",
              "      <td>4.0</td>\n",
              "      <td>30</td>\n",
              "      <td>10500</td>\n",
              "    </tr>\n",
              "    <tr>\n",
              "      <th>14</th>\n",
              "      <td>839</td>\n",
              "      <td>2.0</td>\n",
              "      <td>24</td>\n",
              "      <td>3400</td>\n",
              "    </tr>\n",
              "    <tr>\n",
              "      <th>15</th>\n",
              "      <td>921</td>\n",
              "      <td>3.0</td>\n",
              "      <td>18</td>\n",
              "      <td>5000</td>\n",
              "    </tr>\n",
              "    <tr>\n",
              "      <th>16</th>\n",
              "      <td>671</td>\n",
              "      <td>2.0</td>\n",
              "      <td>12</td>\n",
              "      <td>2400</td>\n",
              "    </tr>\n",
              "    <tr>\n",
              "      <th>17</th>\n",
              "      <td>953</td>\n",
              "      <td>3.0</td>\n",
              "      <td>36</td>\n",
              "      <td>2720</td>\n",
              "    </tr>\n",
              "    <tr>\n",
              "      <th>18</th>\n",
              "      <td>871</td>\n",
              "      <td>3.0</td>\n",
              "      <td>12</td>\n",
              "      <td>3100</td>\n",
              "    </tr>\n",
              "    <tr>\n",
              "      <th>19</th>\n",
              "      <td>933</td>\n",
              "      <td>3.0</td>\n",
              "      <td>10</td>\n",
              "      <td>2950</td>\n",
              "    </tr>\n",
              "    <tr>\n",
              "      <th>20</th>\n",
              "      <td>1066</td>\n",
              "      <td>4.0</td>\n",
              "      <td>3</td>\n",
              "      <td>29820</td>\n",
              "    </tr>\n",
              "    <tr>\n",
              "      <th>21</th>\n",
              "      <td>1080</td>\n",
              "      <td>3.0</td>\n",
              "      <td>10</td>\n",
              "      <td>9890</td>\n",
              "    </tr>\n",
              "    <tr>\n",
              "      <th>22</th>\n",
              "      <td>825</td>\n",
              "      <td>3.0</td>\n",
              "      <td>5</td>\n",
              "      <td>6300</td>\n",
              "    </tr>\n",
              "    <tr>\n",
              "      <th>23</th>\n",
              "      <td>795</td>\n",
              "      <td>3.0</td>\n",
              "      <td>13</td>\n",
              "      <td>5960</td>\n",
              "    </tr>\n",
              "    <tr>\n",
              "      <th>24</th>\n",
              "      <td>930</td>\n",
              "      <td>2.0</td>\n",
              "      <td>11</td>\n",
              "      <td>4890</td>\n",
              "    </tr>\n",
              "    <tr>\n",
              "      <th>25</th>\n",
              "      <td>1128</td>\n",
              "      <td>4.0</td>\n",
              "      <td>21</td>\n",
              "      <td>9500</td>\n",
              "    </tr>\n",
              "    <tr>\n",
              "      <th>26</th>\n",
              "      <td>1154</td>\n",
              "      <td>3.0</td>\n",
              "      <td>27</td>\n",
              "      <td>9230</td>\n",
              "    </tr>\n",
              "    <tr>\n",
              "      <th>27</th>\n",
              "      <td>1047</td>\n",
              "      <td>3.0</td>\n",
              "      <td>50</td>\n",
              "      <td>6322</td>\n",
              "    </tr>\n",
              "    <tr>\n",
              "      <th>28</th>\n",
              "      <td>877</td>\n",
              "      <td>2.0</td>\n",
              "      <td>40</td>\n",
              "      <td>1020</td>\n",
              "    </tr>\n",
              "    <tr>\n",
              "      <th>29</th>\n",
              "      <td>890</td>\n",
              "      <td>3.0</td>\n",
              "      <td>28</td>\n",
              "      <td>2300</td>\n",
              "    </tr>\n",
              "    <tr>\n",
              "      <th>30</th>\n",
              "      <td>857</td>\n",
              "      <td>2.0</td>\n",
              "      <td>17</td>\n",
              "      <td>3680</td>\n",
              "    </tr>\n",
              "    <tr>\n",
              "      <th>31</th>\n",
              "      <td>956</td>\n",
              "      <td>2.0</td>\n",
              "      <td>25</td>\n",
              "      <td>7500</td>\n",
              "    </tr>\n",
              "    <tr>\n",
              "      <th>32</th>\n",
              "      <td>970</td>\n",
              "      <td>3.0</td>\n",
              "      <td>31</td>\n",
              "      <td>7450</td>\n",
              "    </tr>\n",
              "    <tr>\n",
              "      <th>33</th>\n",
              "      <td>928</td>\n",
              "      <td>2.0</td>\n",
              "      <td>14</td>\n",
              "      <td>8900</td>\n",
              "    </tr>\n",
              "    <tr>\n",
              "      <th>34</th>\n",
              "      <td>781</td>\n",
              "      <td>3.0</td>\n",
              "      <td>8</td>\n",
              "      <td>4920</td>\n",
              "    </tr>\n",
              "    <tr>\n",
              "      <th>35</th>\n",
              "      <td>760</td>\n",
              "      <td>3.0</td>\n",
              "      <td>4</td>\n",
              "      <td>5120</td>\n",
              "    </tr>\n",
              "    <tr>\n",
              "      <th>36</th>\n",
              "      <td>658</td>\n",
              "      <td>2.0</td>\n",
              "      <td>1</td>\n",
              "      <td>3990</td>\n",
              "    </tr>\n",
              "    <tr>\n",
              "      <th>37</th>\n",
              "      <td>993</td>\n",
              "      <td>4.0</td>\n",
              "      <td>2</td>\n",
              "      <td>10900</td>\n",
              "    </tr>\n",
              "    <tr>\n",
              "      <th>38</th>\n",
              "      <td>890</td>\n",
              "      <td>2.0</td>\n",
              "      <td>9</td>\n",
              "      <td>4980</td>\n",
              "    </tr>\n",
              "    <tr>\n",
              "      <th>39</th>\n",
              "      <td>1025</td>\n",
              "      <td>3.0</td>\n",
              "      <td>5</td>\n",
              "      <td>19000</td>\n",
              "    </tr>\n",
              "  </tbody>\n",
              "</table>\n",
              "</div>\n",
              "      <button class=\"colab-df-convert\" onclick=\"convertToInteractive('df-abf5b5e8-b2d6-433f-8a88-5f3de3198fc3')\"\n",
              "              title=\"Convert this dataframe to an interactive table.\"\n",
              "              style=\"display:none;\">\n",
              "        \n",
              "  <svg xmlns=\"http://www.w3.org/2000/svg\" height=\"24px\"viewBox=\"0 0 24 24\"\n",
              "       width=\"24px\">\n",
              "    <path d=\"M0 0h24v24H0V0z\" fill=\"none\"/>\n",
              "    <path d=\"M18.56 5.44l.94 2.06.94-2.06 2.06-.94-2.06-.94-.94-2.06-.94 2.06-2.06.94zm-11 1L8.5 8.5l.94-2.06 2.06-.94-2.06-.94L8.5 2.5l-.94 2.06-2.06.94zm10 10l.94 2.06.94-2.06 2.06-.94-2.06-.94-.94-2.06-.94 2.06-2.06.94z\"/><path d=\"M17.41 7.96l-1.37-1.37c-.4-.4-.92-.59-1.43-.59-.52 0-1.04.2-1.43.59L10.3 9.45l-7.72 7.72c-.78.78-.78 2.05 0 2.83L4 21.41c.39.39.9.59 1.41.59.51 0 1.02-.2 1.41-.59l7.78-7.78 2.81-2.81c.8-.78.8-2.07 0-2.86zM5.41 20L4 18.59l7.72-7.72 1.47 1.35L5.41 20z\"/>\n",
              "  </svg>\n",
              "      </button>\n",
              "      \n",
              "  <style>\n",
              "    .colab-df-container {\n",
              "      display:flex;\n",
              "      flex-wrap:wrap;\n",
              "      gap: 12px;\n",
              "    }\n",
              "\n",
              "    .colab-df-convert {\n",
              "      background-color: #E8F0FE;\n",
              "      border: none;\n",
              "      border-radius: 50%;\n",
              "      cursor: pointer;\n",
              "      display: none;\n",
              "      fill: #1967D2;\n",
              "      height: 32px;\n",
              "      padding: 0 0 0 0;\n",
              "      width: 32px;\n",
              "    }\n",
              "\n",
              "    .colab-df-convert:hover {\n",
              "      background-color: #E2EBFA;\n",
              "      box-shadow: 0px 1px 2px rgba(60, 64, 67, 0.3), 0px 1px 3px 1px rgba(60, 64, 67, 0.15);\n",
              "      fill: #174EA6;\n",
              "    }\n",
              "\n",
              "    [theme=dark] .colab-df-convert {\n",
              "      background-color: #3B4455;\n",
              "      fill: #D2E3FC;\n",
              "    }\n",
              "\n",
              "    [theme=dark] .colab-df-convert:hover {\n",
              "      background-color: #434B5C;\n",
              "      box-shadow: 0px 1px 3px 1px rgba(0, 0, 0, 0.15);\n",
              "      filter: drop-shadow(0px 1px 2px rgba(0, 0, 0, 0.3));\n",
              "      fill: #FFFFFF;\n",
              "    }\n",
              "  </style>\n",
              "\n",
              "      <script>\n",
              "        const buttonEl =\n",
              "          document.querySelector('#df-abf5b5e8-b2d6-433f-8a88-5f3de3198fc3 button.colab-df-convert');\n",
              "        buttonEl.style.display =\n",
              "          google.colab.kernel.accessAllowed ? 'block' : 'none';\n",
              "\n",
              "        async function convertToInteractive(key) {\n",
              "          const element = document.querySelector('#df-abf5b5e8-b2d6-433f-8a88-5f3de3198fc3');\n",
              "          const dataTable =\n",
              "            await google.colab.kernel.invokeFunction('convertToInteractive',\n",
              "                                                     [key], {});\n",
              "          if (!dataTable) return;\n",
              "\n",
              "          const docLinkHtml = 'Like what you see? Visit the ' +\n",
              "            '<a target=\"_blank\" href=https://colab.research.google.com/notebooks/data_table.ipynb>data table notebook</a>'\n",
              "            + ' to learn more about interactive tables.';\n",
              "          element.innerHTML = '';\n",
              "          dataTable['output_type'] = 'display_data';\n",
              "          await google.colab.output.renderOutput(dataTable, element);\n",
              "          const docLink = document.createElement('div');\n",
              "          docLink.innerHTML = docLinkHtml;\n",
              "          element.appendChild(docLink);\n",
              "        }\n",
              "      </script>\n",
              "    </div>\n",
              "  </div>\n",
              "  "
            ],
            "text/plain": [
              "    Area  Bedrooms  Age   Rent\n",
              "0   1024       3.0   15  11200\n",
              "1   1200       4.0   10  33650\n",
              "2    800       2.0    5   8000\n",
              "3    674       2.0   10   6120\n",
              "4    766       2.0   11   6000\n",
              "5    680       3.0   36   3200\n",
              "6    750       3.0   10   3500\n",
              "7    900       3.0   20   3345\n",
              "8    967       3.0   23   3100\n",
              "9    720       3.0    7   6200\n",
              "10   850       4.0   16   7820\n",
              "11  1033       4.0    2  37020\n",
              "12  1050       3.0    6  33260\n",
              "13  1120       4.0   30  10500\n",
              "14   839       2.0   24   3400\n",
              "15   921       3.0   18   5000\n",
              "16   671       2.0   12   2400\n",
              "17   953       3.0   36   2720\n",
              "18   871       3.0   12   3100\n",
              "19   933       3.0   10   2950\n",
              "20  1066       4.0    3  29820\n",
              "21  1080       3.0   10   9890\n",
              "22   825       3.0    5   6300\n",
              "23   795       3.0   13   5960\n",
              "24   930       2.0   11   4890\n",
              "25  1128       4.0   21   9500\n",
              "26  1154       3.0   27   9230\n",
              "27  1047       3.0   50   6322\n",
              "28   877       2.0   40   1020\n",
              "29   890       3.0   28   2300\n",
              "30   857       2.0   17   3680\n",
              "31   956       2.0   25   7500\n",
              "32   970       3.0   31   7450\n",
              "33   928       2.0   14   8900\n",
              "34   781       3.0    8   4920\n",
              "35   760       3.0    4   5120\n",
              "36   658       2.0    1   3990\n",
              "37   993       4.0    2  10900\n",
              "38   890       2.0    9   4980\n",
              "39  1025       3.0    5  19000"
            ]
          },
          "metadata": {},
          "execution_count": 12
        }
      ]
    },
    {
      "cell_type": "markdown",
      "source": [
        "###Building the machine learning model"
      ],
      "metadata": {
        "id": "hlprutri1SYW"
      }
    },
    {
      "cell_type": "code",
      "source": [
        "from sklearn.linear_model import LinearRegression\n",
        "from sklearn.model_selection import train_test_split\n",
        "reg =LinearRegression() "
      ],
      "metadata": {
        "id": "skkJvHjYkPDS"
      },
      "execution_count": 13,
      "outputs": []
    },
    {
      "cell_type": "code",
      "source": [
        "reg.fit(df[['Area','Bedrooms','Age' ]],df.Rent)"
      ],
      "metadata": {
        "colab": {
          "base_uri": "https://localhost:8080/"
        },
        "id": "NOx2ukF3k6Ie",
        "outputId": "235dbdbf-0db6-4bf1-ccd2-777f0db8b084"
      },
      "execution_count": 14,
      "outputs": [
        {
          "output_type": "execute_result",
          "data": {
            "text/plain": [
              "LinearRegression()"
            ]
          },
          "metadata": {},
          "execution_count": 14
        }
      ]
    },
    {
      "cell_type": "code",
      "source": [
        "reg.coef_"
      ],
      "metadata": {
        "colab": {
          "base_uri": "https://localhost:8080/"
        },
        "id": "ysZ7iB9gloi9",
        "outputId": "74749cd8-a4a4-4fd6-9e19-ebe4bf895864"
      },
      "execution_count": 15,
      "outputs": [
        {
          "output_type": "execute_result",
          "data": {
            "text/plain": [
              "array([  34.66745591, 2440.61024394, -354.75983519])"
            ]
          },
          "metadata": {},
          "execution_count": 15
        }
      ]
    },
    {
      "cell_type": "code",
      "source": [
        "reg.intercept_"
      ],
      "metadata": {
        "colab": {
          "base_uri": "https://localhost:8080/"
        },
        "id": "ZkRp_PsBl3Yn",
        "outputId": "e7b7a12c-5f0f-460d-dbf9-fd03f5c22317"
      },
      "execution_count": 16,
      "outputs": [
        {
          "output_type": "execute_result",
          "data": {
            "text/plain": [
              "-24001.729279468836"
            ]
          },
          "metadata": {},
          "execution_count": 16
        }
      ]
    },
    {
      "cell_type": "markdown",
      "source": [
        "####Predicted result"
      ],
      "metadata": {
        "id": "p7MhjaFK1Xt2"
      }
    },
    {
      "cell_type": "code",
      "source": [
        "reg.predict([[920,3,10]])"
      ],
      "metadata": {
        "colab": {
          "base_uri": "https://localhost:8080/"
        },
        "id": "qQniQRTfl5RH",
        "outputId": "b64aa31d-29f3-4369-f93f-6e5bd03873de"
      },
      "execution_count": 17,
      "outputs": [
        {
          "output_type": "stream",
          "name": "stderr",
          "text": [
            "/usr/local/lib/python3.7/dist-packages/sklearn/base.py:451: UserWarning: X does not have valid feature names, but LinearRegression was fitted with feature names\n",
            "  \"X does not have valid feature names, but\"\n"
          ]
        },
        {
          "output_type": "execute_result",
          "data": {
            "text/plain": [
              "array([11666.56253816])"
            ]
          },
          "metadata": {},
          "execution_count": 17
        }
      ]
    },
    {
      "cell_type": "markdown",
      "source": [
        "####Actual result"
      ],
      "metadata": {
        "id": "17ilLp1S1bTX"
      }
    },
    {
      "cell_type": "code",
      "source": [
        "y= 34.66745591*920+2440.61024394*3+-354.75983519*10+-24001.729279468836\n",
        "y\n"
      ],
      "metadata": {
        "colab": {
          "base_uri": "https://localhost:8080/"
        },
        "id": "JbM_2TbMm3my",
        "outputId": "03bae412-9285-41a0-a29a-ac49f19273ac"
      },
      "execution_count": 19,
      "outputs": [
        {
          "output_type": "execute_result",
          "data": {
            "text/plain": [
              "11666.562537651163"
            ]
          },
          "metadata": {},
          "execution_count": 19
        }
      ]
    },
    {
      "cell_type": "code",
      "source": [
        "r = 100 -(y-reg.predict([[920,3,10]]))\n",
        "print(\"Accuracy of the model is \",int(r),\"%\")\n"
      ],
      "metadata": {
        "colab": {
          "base_uri": "https://localhost:8080/"
        },
        "id": "65qDIIL1ps3r",
        "outputId": "6fc91952-9dd1-4d6f-92e9-1f779d461475"
      },
      "execution_count": 21,
      "outputs": [
        {
          "output_type": "stream",
          "name": "stdout",
          "text": [
            "Accuracy of the model is  100 %\n"
          ]
        },
        {
          "output_type": "stream",
          "name": "stderr",
          "text": [
            "/usr/local/lib/python3.7/dist-packages/sklearn/base.py:451: UserWarning: X does not have valid feature names, but LinearRegression was fitted with feature names\n",
            "  \"X does not have valid feature names, but\"\n"
          ]
        }
      ]
    },
    {
      "cell_type": "code",
      "source": [
        "x = df.iloc[:,0].values.reshape(-1,1)\n",
        "x1 = df.iloc[:,1].values.reshape(-1,1)\n",
        "x2 = df.iloc[:,2].values.reshape(-1,1)\n",
        "y = df.iloc[:,-1].values"
      ],
      "metadata": {
        "id": "G1buHTn0rtHf"
      },
      "execution_count": 22,
      "outputs": []
    },
    {
      "cell_type": "code",
      "source": [
        "x_train, x_test, y_train, y_test = train_test_split(x,y,test_size= 1/4, random_state=0)\n",
        "x1_train, x1_test,y_train, y_test = train_test_split(x1,y,test_size= 1/4, random_state=0)\n",
        "x2_train, x2_test,y_train, y_test = train_test_split(x2,y,test_size= 1/4, random_state=0)\n"
      ],
      "metadata": {
        "id": "8gWvy_5jsvGF"
      },
      "execution_count": 26,
      "outputs": []
    },
    {
      "cell_type": "code",
      "source": [
        "reg.fit(x_train,y_train)\n",
        "reg.fit(x1_train,y_train)\n",
        "reg.fit(x2_train,y_train)"
      ],
      "metadata": {
        "colab": {
          "base_uri": "https://localhost:8080/"
        },
        "id": "3bMXiJW4urzz",
        "outputId": "970291b9-d721-42e9-91ae-26deea3e92e8"
      },
      "execution_count": 28,
      "outputs": [
        {
          "output_type": "execute_result",
          "data": {
            "text/plain": [
              "LinearRegression()"
            ]
          },
          "metadata": {},
          "execution_count": 28
        }
      ]
    },
    {
      "cell_type": "code",
      "source": [
        "y_pred = reg.predict(x_test)\n",
        "y_pred = reg.predict(x1_test)\n",
        "y_pred = reg.predict(x2_test)"
      ],
      "metadata": {
        "id": "DMiSqBM1vJ71"
      },
      "execution_count": 29,
      "outputs": []
    },
    {
      "cell_type": "code",
      "source": [
        "plt.figure(figsize=(17,15))\n",
        "plt.subplot(3,2,1)\n",
        "plt.scatter(x_train,y_train, c='k')\n",
        "plt.plot(x_train,reg.predict(x_train),color ='blue')\n",
        "plt.xlabel('Area of House',size=18)\n",
        "plt.ylabel('Rent of house',size=18)\n",
        "plt.title('House Rent Prediction (Training set) \\n',size=24)\n",
        "\n",
        "plt.subplot(3,2,2)\n",
        "plt.scatter(x_test,y_test,c='k')\n",
        "plt.plot(x_train,reg.predict(x_train),color='blue')\n",
        "plt.xlabel('Area of house',size=18)\n",
        "plt.ylabel('Rent of house',size=18)\n",
        "plt.title('House Rent Prediction (Test set) \\n',size=24)\n",
        "\n",
        "plt.subplot(3,2,3)\n",
        "plt.scatter(x1_train,y_train,c='k')\n",
        "plt.plot(x1_train,reg.predict(x1_train),color='green')\n",
        "plt.xlabel('Bedrooms',size=18)\n",
        "plt.ylabel('Rent of house',size=18)\n",
        "\n",
        "plt.subplot(3,2,4)\n",
        "plt.scatter(x1_test,y_test,c='k')\n",
        "plt.plot(x1_train,reg.predict(x1_train),color='green')\n",
        "plt.xlabel('Bedrooms',size=18)\n",
        "plt.ylabel('Rent of house',size=18)\n",
        "\n",
        "plt.subplot(3,2,5)\n",
        "plt.scatter(x2_train,y_train,c='k')\n",
        "plt.plot(x2_train,reg.predict(x2_train),color='red')\n",
        "plt.xlabel('Age of house',size=18)\n",
        "plt.ylabel('Rent of house',size=18)\n",
        "\n",
        "plt.subplot(3,2,6)\n",
        "plt.scatter(x2_test,y_test,c='k')\n",
        "plt.plot(x2_train,reg.predict(x2_train),color='red')\n",
        "plt.xlabel('Age of house',size=18)\n",
        "plt.ylabel('Rent of house',size=18)\n",
        "\n",
        "plt.show()\n"
      ],
      "metadata": {
        "colab": {
          "base_uri": "https://localhost:8080/",
          "height": 938
        },
        "id": "SvK5uhA-vgKj",
        "outputId": "1a531585-82ac-4464-96f0-c9ccb30517d1"
      },
      "execution_count": 34,
      "outputs": [
        {
          "output_type": "display_data",
          "data": {
            "image/png": "[encoded data removed]",
            "text/plain": [
              "<Figure size 1224x1080 with 6 Axes>"
            ]
          },
          "metadata": {
            "needs_background": "light"
          }
        }
      ]
    },
    {
      "cell_type": "markdown",
      "source": [
        "###In this exercise, we have got a large negative intercept. As the coefficient of house area is quite small, hence the slope is tending towards the negative direction, resulting in production of a negative scale of values.\n"
      ],
      "metadata": {
        "id": "AZcNVcPc1h91"
      }
    },
    {
      "cell_type": "markdown",
      "source": [
        "#####From the graphs, we can also say that the house rent mostly depends on the age of the house and has almost linearly decreasing relation with age of house. This suggests as the age of house increases, its cost decreases"
      ],
      "metadata": {
        "id": "ZOfz_g_n1sDj"
      }
    },
    {
      "cell_type": "markdown",
      "source": [
        "###Pros or Advantages of Multivariate Regression\n",
        "\n",
        "1. Multiple factors can be fed into the model and analysed in one go.\n",
        "\n",
        "2. Works quite fast with most datasets.\n",
        "\n",
        "3. More realistic than linear regression."
      ],
      "metadata": {
        "id": "X7IIT8Dk1vql"
      }
    },
    {
      "cell_type": "markdown",
      "source": [
        "###Cons or Disadvantages of Multivariate Regression\n",
        "1. If there is a heirarchical dependence for more than 2 independent parameters, like x depends on y and y depends on z, then it would be difficult to plot such values and demonstrate regressions in a single plot.\n",
        "\n",
        "2. Not suitable for very big datasets of size 10 million or more.\n",
        "\n",
        "3. Like linear regression, it cannot predict special mathematical patterns."
      ],
      "metadata": {
        "id": "7vIHJJ4S2CkY"
      }
    },
    {
      "cell_type": "code",
      "source": [
        ""
      ],
      "metadata": {
        "id": "Yz7K4y8HzaRg"
      },
      "execution_count": null,
      "outputs": []
    }
  ]
}